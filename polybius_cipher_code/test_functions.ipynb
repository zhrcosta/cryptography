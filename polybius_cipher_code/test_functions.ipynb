{
 "cells": [
  {
   "cell_type": "code",
   "execution_count": 1,
   "metadata": {},
   "outputs": [],
   "source": [
    "def str_normalize(string):\n",
    "    '''\n",
    "    Essa função remove de uma string qualquer caractere especial\n",
    "    deixando apenas o alfabeto normal em minusculo\n",
    "    '''\n",
    "\n",
    "\n",
    "        # Para colocar cada caractére em letras minusculas\n",
    "    string = string.lower()\n",
    "\n",
    "        # Lista com o posicionamento dos caracteres com acento\n",
    "    chr_ac = list(range(224, 228))\n",
    "\n",
    "        # Subistitui todos os caracteres com acento por seu respectivos\n",
    "    for i in chr_ac:\n",
    "        string = string.replace(chr(i), \"a\").replace(chr(i + 8), \"e\").replace(chr(i + 12), \"i\").replace(chr(i + 18), \"o\").replace(\n",
    "            chr(i + 25), \"u\")\n",
    "    for i in string:\n",
    "        string = string.replace(\"ç\",\"c\").replace(\"Ç\",\"c\")\n",
    "\n",
    "        # Lista com o posicionamento dos caracteres especiais\n",
    "    chr_esp = list(range(0,32))+list(range(33,65))+list(range(91,97))+list(range(123,224))\n",
    "\n",
    "        # Remove todos os caracteres especiais\n",
    "    for i in chr_esp:\n",
    "        string = string.replace(chr(i),\"\")\n",
    "\n",
    "        # rotorna os caracteres basicos\n",
    "    return string\n",
    "\n",
    "def polibio_alphabet(string):\n",
    "\n",
    "        # Dicionário que será usado na substituição, de acordo com a tabela do código de polibio\n",
    "    d ={\"a\":11,\"b\":12,\"c\":13,\"d\":14,\"e\":15,\n",
    "        \"f\":21,\"g\":22,\"h\":23,\"i\":24,\"j\":25,\n",
    "        \"k\":31,\"l\":32,\"m\":33,\"n\":34,\"o\":35,\n",
    "        \"p\":41,\"q\":42,\"r\":43,\"s\":44,\"t\":45,\n",
    "        \"u\":51,\"v\":52,\"w\":52,\"x\":53,\"y\":54,\n",
    "        \"z\":55}\n",
    "\n",
    "        # Cada caractere é substituido pelo respectivo numero do código de polibio\n",
    "    for i in string:\n",
    "        string = string.replace(i,str(d[i]))\n",
    "\n",
    "        # Retorna a string criptografada\n",
    "    return string\n",
    "\n",
    "\n",
    "def normal_lphabet(lts):\n",
    "    final_str = ''\n",
    "\n",
    "    # Dicionário que será usado na substituição, de acordo com a tabela do código de polibio\n",
    "\n",
    "\n",
    "    d = {'11': 'a', '12': 'b', '13': 'c', '14': 'd', '15': 'e',\n",
    "         '21': 'f', '22': 'g', '23': 'h', '24': 'i', '25': 'j',\n",
    "         '31': 'k', '32': 'l', '33': 'm', '34': 'n', '35': 'o',\n",
    "         '41': 'p', '42': 'q', '43': 'r', '44': 's', '45': 't',\n",
    "         '51': 'u', '52': 'v', '53': 'x', '54': 'y', '55': 'z'\n",
    "         }\n",
    "\n",
    "    # Cada caractere é substituido pelo respectivo numero do código de polibio\n",
    "    for i in range(len(lts)):\n",
    "        lts[i] = d[lts[i]]\n",
    "\n",
    "        # Retorna a string criptografada\n",
    "\n",
    "    for it in lts:\n",
    "        final_str = final_str + it\n",
    "\n",
    "    return final_str\n",
    "\n",
    "\n",
    "def polibio_encrypt(string):\n",
    "    string = str_normalize(string).split()\n",
    "    final_str = ''\n",
    "    for i in string:\n",
    "        #print(polibio_alphabet(i), end=\" \")\n",
    "        final_str = final_str + polibio_alphabet(i) + str(\" \")\n",
    "\n",
    "    return final_str\n",
    "\n",
    "\n",
    "def str_split(string,nm):\n",
    "    string = [string[i:i+nm] for i in range(0,len(string),nm)]\n",
    "    return string\n",
    "\n",
    "\n",
    "def split_encrypted(string):\n",
    "    lt = string.split(\" \")\n",
    "    if '' in lt:\n",
    "        lt.remove('')\n",
    "        # retorna uma lista de string\n",
    "    return lt\n",
    "\n",
    "def polibio_decrypt(string):\n",
    "    spl_sentense = split_encrypted(string)\n",
    "    final_sentense = ''\n",
    "\n",
    "    for it in spl_sentense:\n",
    "        str_spl = str_split(it,2)\n",
    "        str_spl = normal_lphabet(str_spl)\n",
    "        final_sentense = final_sentense + str_spl + \" \"\n",
    "\n",
    "\n",
    "    return final_sentense"
   ]
  },
  {
   "cell_type": "code",
   "execution_count": 2,
   "metadata": {},
   "outputs": [
    {
     "name": "stdout",
     "output_type": "stream",
     "text": [
      "342431353211 4515443211 \n"
     ]
    }
   ],
   "source": [
    "print(polibio_encrypt(\"Nikola Tesla\"))"
   ]
  },
  {
   "cell_type": "code",
   "execution_count": 3,
   "metadata": {},
   "outputs": [
    {
     "name": "stdout",
     "output_type": "stream",
     "text": [
      "nikola tesla \n"
     ]
    }
   ],
   "source": [
    "print(polibio_decrypt(\"342431353211 4515443211\"))"
   ]
  },
  {
   "cell_type": "code",
   "execution_count": null,
   "metadata": {},
   "outputs": [],
   "source": []
  }
 ],
 "metadata": {
  "kernelspec": {
   "display_name": "Python 3",
   "language": "python",
   "name": "python3"
  },
  "language_info": {
   "codemirror_mode": {
    "name": "ipython",
    "version": 3
   },
   "file_extension": ".py",
   "mimetype": "text/x-python",
   "name": "python",
   "nbconvert_exporter": "python",
   "pygments_lexer": "ipython3",
   "version": "3.8.3"
  }
 },
 "nbformat": 4,
 "nbformat_minor": 4
}
